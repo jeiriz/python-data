{
 "cells": [
  {
   "cell_type": "code",
   "execution_count": 2,
   "metadata": {},
   "outputs": [],
   "source": [
    "import pandas as pd"
   ]
  },
  {
   "cell_type": "code",
   "execution_count": 7,
   "metadata": {},
   "outputs": [
    {
     "data": {
      "text/plain": [
       "x     hola\n",
       "y     como\n",
       "z    estas\n",
       "dtype: object"
      ]
     },
     "execution_count": 7,
     "metadata": {},
     "output_type": "execute_result"
    }
   ],
   "source": [
    "\n",
    "\n",
    "listaUnidimensional = [\"hola\",\"como\",\"estas\"]\n",
    "# Columna\n",
    "dfUnidimensional = pd.Series(listaUnidimensional, index=[\"x\",\"y\",\"z\"]) #Si no se coloca index, se crean numeros x defecto\n"
   ]
  },
  {
   "cell_type": "code",
   "execution_count": 8,
   "metadata": {},
   "outputs": [
    {
     "data": {
      "text/plain": [
       "'como'"
      ]
     },
     "execution_count": 8,
     "metadata": {},
     "output_type": "execute_result"
    }
   ],
   "source": [
    "# Devolver valor de indice Y\n",
    "df[\"y\"]"
   ]
  },
  {
   "cell_type": "code",
   "execution_count": 16,
   "metadata": {},
   "outputs": [
    {
     "data": {
      "text/plain": [
       "nombre    juan\n",
       "edad        20\n",
       "Name: x, dtype: object"
      ]
     },
     "execution_count": 16,
     "metadata": {},
     "output_type": "execute_result"
    }
   ],
   "source": [
    "myData = {\n",
    "    'nombre': ['juan', 'carlos'],\n",
    "    'edad':'20'\n",
    "}\n",
    "\n",
    "# Matriz bidimensional/tabla\n",
    "df = pd.DataFrame(myData)\n",
    "# Localizar filas por indice\n",
    "df.loc[1] #Tambien podes devolver las filas que quieras ([0,4])\n",
    "\n",
    "# Localizar filas por nombre de indice\n",
    "df = pd.DataFrame(myData, index=['x', 'carlos'])\n",
    "df.loc[\"x\"]"
   ]
  },
  {
   "cell_type": "code",
   "execution_count": 32,
   "metadata": {},
   "outputs": [
    {
     "name": "stdout",
     "output_type": "stream",
     "text": [
      "<class 'pandas.core.frame.DataFrame'>\n",
      "RangeIndex: 13 entries, 0 to 12\n",
      "Data columns (total 6 columns):\n",
      " #   Column    Non-Null Count  Dtype \n",
      "---  ------    --------------  ----- \n",
      " 0   nombre    11 non-null     object\n",
      " 1   apellido  13 non-null     object\n",
      " 2    edad     13 non-null     object\n",
      " 3    ciudad   12 non-null     object\n",
      " 4    sexo     13 non-null     object\n",
      " 5    pais     10 non-null     object\n",
      "dtypes: object(6)\n",
      "memory usage: 752.0+ bytes\n"
     ]
    }
   ],
   "source": [
    "df = pd.read_csv('../pandas/usuariosWrongData.csv') \n",
    "df\n",
    "\n",
    "# devolver descripcion general (como encabezado y numero de filas)\n",
    "df.head(1)#devuelve primer elemento\n",
    "df.head()\n",
    "\n",
    "df.tail() #devuelve ultimos\n",
    "\n",
    "df.info() #devuelve tipo, columna, numero filas, contenido, si hay valores null\n"
   ]
  }
 ],
 "metadata": {
  "interpreter": {
   "hash": "b433e4d9f5b398db438482514c48aba65867351ce6440e9de1692f137ac70f5c"
  },
  "kernelspec": {
   "display_name": "Python 3.8.10 ('python-data': venv)",
   "language": "python",
   "name": "python3"
  },
  "language_info": {
   "codemirror_mode": {
    "name": "ipython",
    "version": 3
   },
   "file_extension": ".py",
   "mimetype": "text/x-python",
   "name": "python",
   "nbconvert_exporter": "python",
   "pygments_lexer": "ipython3",
   "version": "3.8.10"
  },
  "orig_nbformat": 4
 },
 "nbformat": 4,
 "nbformat_minor": 2
}
